{
 "cells": [
  {
   "cell_type": "code",
   "execution_count": 11,
   "metadata": {},
   "outputs": [],
   "source": [
    "import os\n",
    "import pandas as pd\n",
    "import numpy as np\n",
    "import matplotlib.pyplot as plt\n",
    "import seaborn as sns\n",
    "import datetime as dt\n",
    "from lightgbm import LGBMClassifier\n",
    "from skopt import BayesSearchCV, gp_minimize, load\n",
    "from skopt.space import Real, Integer\n",
    "from skopt.utils import use_named_args\n",
    "from skopt.callbacks import CheckpointSaver\n",
    "from skopt.plots import plot_convergence\n",
    "from sklearn.model_selection import StratifiedKFold, KFold\n",
    "from sklearn.metrics import roc_auc_score, roc_curve"
   ]
  },
  {
   "cell_type": "markdown",
   "metadata": {},
   "source": [
    "# Load data"
   ]
  },
  {
   "cell_type": "code",
   "execution_count": 6,
   "metadata": {},
   "outputs": [
    {
     "name": "stdout",
     "output_type": "stream",
     "text": [
      "(200000, 202)\n",
      "CPU times: user 6.34 s, sys: 524 ms, total: 6.86 s\n",
      "Wall time: 6.93 s\n"
     ]
    }
   ],
   "source": [
    "%%time\n",
    "train = pd.read_csv(\"data/train.csv\")\n",
    "print(train.shape)"
   ]
  },
  {
   "cell_type": "code",
   "execution_count": 7,
   "metadata": {},
   "outputs": [
    {
     "name": "stdout",
     "output_type": "stream",
     "text": [
      "(200000, 201)\n",
      "CPU times: user 5.86 s, sys: 469 ms, total: 6.33 s\n",
      "Wall time: 6.43 s\n"
     ]
    }
   ],
   "source": [
    "%%time\n",
    "test = pd.read_csv(\"data/test.csv\")\n",
    "print(test.shape)"
   ]
  },
  {
   "cell_type": "code",
   "execution_count": 8,
   "metadata": {},
   "outputs": [],
   "source": [
    "def fit_model(stratified, n_folds):\n",
    "    \n",
    "    if stratified:\n",
    "        folds = StratifiedKFold(n_splits = n_folds, shuffle = True, random_state = 0)\n",
    "    else:\n",
    "        folds = KFold(n_splits = n_folds, shuffle = True, random_state = 0)\n",
    "    \n",
    "    features = [f for f in train.columns if f not in ['target', 'ID_code']]\n",
    "    \n",
    "    oof_preds = np.zeros(train.shape[0])\n",
    "    sub_preds = np.zeros(test.shape[0])\n",
    "    \n",
    "    scores = []\n",
    "    \n",
    "    feature_importance_df = pd.DataFrame()\n",
    "    \n",
    "    params = {'n_iter': 1000,\n",
    "              'learning_rate': 0.1,\n",
    "              'max_depth': -1,\n",
    "              'num_leaves': 13,\n",
    "              'colsample_bytree': 0.05,\n",
    "              'subsample': 1,\n",
    "              'lambda_l1': 0,\n",
    "              'lambda_l2': 0,\n",
    "              'min_data_in_leaf': 80,\n",
    "              'min_sum_hessian': 10}\n",
    "    \n",
    "    for n_fold, (train_index, valid_index) in enumerate(folds.split(train[features], train['target'])):\n",
    "        print(f\"Fold: {n_fold + 1}, test index: {valid_index[0]}-{valid_index[-1]}\")\n",
    "        X_train, y_train = train[features].iloc[train_index], train['target'].iloc[train_index]\n",
    "        X_valid, y_valid = train[features].iloc[valid_index], train['target'].iloc[valid_index]\n",
    "    \n",
    "        clf = LGBMClassifier(objective = 'binary',\n",
    "                             metric = 'auc',\n",
    "                             random_state = 0,\n",
    "                             n_thread = 4,\n",
    "                             scale_pos_weight = 0.9,\n",
    "                             **params)\n",
    "        \n",
    "        clf.fit(X_train, y_train, \n",
    "              eval_set=[(X_valid, y_valid)], \n",
    "              verbose=100, \n",
    "              early_stopping_rounds=100)\n",
    "        \n",
    "        oof_preds[valid_index] = clf.predict_proba(X_valid, n_iter=clf.best_iteration_)[:, 1]\n",
    "        sub_preds += clf.predict_proba(test[features], num_iteration=clf.best_iteration_)[:, 1] / folds.n_splits\n",
    "        \n",
    "        score = roc_auc_score(y_valid, oof_preds[valid_index])\n",
    "        scores.append(score)\n",
    "        \n",
    "        fold_importance_df = pd.DataFrame()\n",
    "        fold_importance_df[\"feature\"] = features\n",
    "        fold_importance_df[\"importance\"] = clf.feature_importances_\n",
    "        fold_importance_df[\"fold\"] = n_fold + 1\n",
    "        feature_importance_df = pd.concat([feature_importance_df, fold_importance_df], axis=0)\n",
    "        \n",
    "        print(f\"AUC fold {n_fold + 1}: {score}\")\n",
    "    \n",
    "    cv = np.mean(scores)\n",
    "    print(f\"Fold scores: {scores}\\nAverage score(CV): {cv}\")\n",
    "    \n",
    "    importance_df = feature_importance_df[[\"feature\", \"importance\"]].groupby(\"feature\").mean().sort_values(\n",
    "    by=\"importance\", ascending=False).reset_index()\n",
    "    \n",
    "    sub_df = pd.DataFrame({'ID_code': test.ID_code.values, 'target': sub_preds})\n",
    "    sub_df.to_csv('submission' + dt.datetime.now().strftime(\"%Y%m%d_%H%M%S\"), index= False)\n",
    "        \n",
    "    return cv, importance_df"
   ]
  },
  {
   "cell_type": "code",
   "execution_count": 9,
   "metadata": {},
   "outputs": [
    {
     "name": "stdout",
     "output_type": "stream",
     "text": [
      "Fold: 1, test index: 5-199996\n"
     ]
    },
    {
     "name": "stderr",
     "output_type": "stream",
     "text": [
      "/Users/marcusahlgren/anaconda3/lib/python3.6/site-packages/lightgbm/engine.py:113: UserWarning: Found `n_iter` in params. Will use it instead of argument\n",
      "  warnings.warn(\"Found `{}` in params. Will use it instead of argument\".format(alias))\n"
     ]
    },
    {
     "name": "stdout",
     "output_type": "stream",
     "text": [
      "Training until validation scores don't improve for 100 rounds.\n",
      "[100]\tvalid_0's auc: 0.861472\n",
      "Did not meet early stopping. Best iteration is:\n",
      "[100]\tvalid_0's auc: 0.861472\n",
      "AUC fold 1: 0.8614722308526294\n",
      "Fold: 2, test index: 0-199999\n"
     ]
    },
    {
     "name": "stderr",
     "output_type": "stream",
     "text": [
      "/Users/marcusahlgren/anaconda3/lib/python3.6/site-packages/lightgbm/engine.py:113: UserWarning: Found `n_iter` in params. Will use it instead of argument\n",
      "  warnings.warn(\"Found `{}` in params. Will use it instead of argument\".format(alias))\n"
     ]
    },
    {
     "name": "stdout",
     "output_type": "stream",
     "text": [
      "Training until validation scores don't improve for 100 rounds.\n",
      "[100]\tvalid_0's auc: 0.862755\n",
      "Did not meet early stopping. Best iteration is:\n",
      "[100]\tvalid_0's auc: 0.862755\n",
      "AUC fold 2: 0.8627551080372573\n",
      "Fold: 3, test index: 3-199998\n"
     ]
    },
    {
     "name": "stderr",
     "output_type": "stream",
     "text": [
      "/Users/marcusahlgren/anaconda3/lib/python3.6/site-packages/lightgbm/engine.py:113: UserWarning: Found `n_iter` in params. Will use it instead of argument\n",
      "  warnings.warn(\"Found `{}` in params. Will use it instead of argument\".format(alias))\n"
     ]
    },
    {
     "name": "stdout",
     "output_type": "stream",
     "text": [
      "Training until validation scores don't improve for 100 rounds.\n",
      "[100]\tvalid_0's auc: 0.866425\n",
      "Did not meet early stopping. Best iteration is:\n",
      "[100]\tvalid_0's auc: 0.866425\n",
      "AUC fold 3: 0.8664247412188639\n",
      "Fold: 4, test index: 1-199991\n"
     ]
    },
    {
     "name": "stderr",
     "output_type": "stream",
     "text": [
      "/Users/marcusahlgren/anaconda3/lib/python3.6/site-packages/lightgbm/engine.py:113: UserWarning: Found `n_iter` in params. Will use it instead of argument\n",
      "  warnings.warn(\"Found `{}` in params. Will use it instead of argument\".format(alias))\n"
     ]
    },
    {
     "name": "stdout",
     "output_type": "stream",
     "text": [
      "Training until validation scores don't improve for 100 rounds.\n",
      "[100]\tvalid_0's auc: 0.873041\n",
      "Did not meet early stopping. Best iteration is:\n",
      "[100]\tvalid_0's auc: 0.873041\n",
      "AUC fold 4: 0.8730411244199835\n",
      "Fold: 5, test index: 2-199987\n"
     ]
    },
    {
     "name": "stderr",
     "output_type": "stream",
     "text": [
      "/Users/marcusahlgren/anaconda3/lib/python3.6/site-packages/lightgbm/engine.py:113: UserWarning: Found `n_iter` in params. Will use it instead of argument\n",
      "  warnings.warn(\"Found `{}` in params. Will use it instead of argument\".format(alias))\n"
     ]
    },
    {
     "name": "stdout",
     "output_type": "stream",
     "text": [
      "Training until validation scores don't improve for 100 rounds.\n",
      "[100]\tvalid_0's auc: 0.867755\n",
      "Did not meet early stopping. Best iteration is:\n",
      "[100]\tvalid_0's auc: 0.867755\n",
      "AUC fold 5: 0.8677546592540353\n",
      "Fold scores: [0.8614722308526294, 0.8627551080372573, 0.8664247412188639, 0.8730411244199835, 0.8677546592540353]\n",
      "Average score(CV): 0.8662895727565539\n"
     ]
    }
   ],
   "source": [
    "cv, importance_df = fit_model(True, 5)"
   ]
  },
  {
   "cell_type": "code",
   "execution_count": 15,
   "metadata": {},
   "outputs": [
    {
     "data": {
      "image/png": "[encoded data removed]",
      "text/plain": [
       "<Figure size 576x720 with 1 Axes>"
      ]
     },
     "metadata": {
      "needs_background": "light"
     },
     "output_type": "display_data"
    }
   ],
   "source": [
    "plt.figure(figsize=(8,10))\n",
    "sns.barplot(x=\"importance\", y=\"feature\", data=importance_df.sort_values(by=\"importance\", ascending=False).iloc[0:20])\n",
    "plt.title('Average Feature Importance Over Folds')\n",
    "plt.tight_layout()"
   ]
  },
  {
   "cell_type": "code",
   "execution_count": null,
   "metadata": {},
   "outputs": [],
   "source": [
    "space  = [Integer(1, 5, name='max_depth'),\n",
    "          Real(10**-5, 10**0, \"log-uniform\", name='learning_rate'),\n",
    "          Integer(1, n_features, name='max_features'),\n",
    "          Integer(2, 100, name='min_samples_split'),\n",
    "          Integer(1, 100, name='min_samples_leaf')]"
   ]
  },
  {
   "cell_type": "code",
   "execution_count": null,
   "metadata": {},
   "outputs": [],
   "source": [
    "# Classifier\n",
    "bayes_cv_tuner = BayesSearchCV(\n",
    "    estimator = LGBMClassifier(objective = 'binary',\n",
    "                               metric = 'auc',\n",
    "                               random_state = 0,\n",
    "                               n_thread = 4,\n",
    "                               verbose = 3,\n",
    "                               learning_rate = 0.05),\n",
    "    search_spaces = {\n",
    "        'n_estimators': (10, 20),\n",
    "        'num_leaves': (1, 100),      \n",
    "        'max_depth': (0, 10),\n",
    "        'max_bin': (100, 1000),\n",
    "        'subsample': (0.01, 1.0, 'uniform'),\n",
    "        'colsample_bytree': (0.01, 1.0, 'uniform'),\n",
    "        'min_child_weight': (0, 10),\n",
    "        'reg_lambda': (0, 10),\n",
    "        'reg_alpha': (0, 10),\n",
    "    },    \n",
    "    scoring = 'roc_auc',\n",
    "    cv = StratifiedKFold(\n",
    "        n_splits=3,\n",
    "        shuffle=True,\n",
    "        random_state=0\n",
    "    ),\n",
    "    n_jobs = 3,\n",
    "    n_iter = 3,   \n",
    "    verbose = 3,\n",
    "    refit = True,\n",
    "    random_state = 0\n",
    ")\n",
    "\n",
    "def status_print(optim_result):\n",
    "    # Get all the models tested so far in DataFrame format\n",
    "    all_models = pd.DataFrame(bayes_cv_tuner.cv_results_)    \n",
    "    \n",
    "    # Get current parameters and the best parameters    \n",
    "    best_params = pd.Series(bayes_cv_tuner.best_params_)\n",
    "    \n",
    "    print(f\"Model #{len(all_models)}\\\n",
    "    \\nBest Score: {np.round(bayes_cv_tuner.best_score_, 4)}\\\n",
    "    \\nBest params: {bayes_cv_tuner.best_params_}\")\n",
    "    \n",
    "    # Save all model results\n",
    "    clf_name = bayes_cv_tuner.estimator.__class__.__name__\n",
    "    all_models.to_csv(clf_name+\"_cv_results.csv\")\n",
    "\n",
    "features = [f for f in train.columns if f not in ['target', 'ID_code']]\n",
    "\n",
    "# Fit the model\n",
    "result = bayes_cv_tuner.fit(train[features], train['target'], callback=status_print)"
   ]
  },
  {
   "cell_type": "code",
   "execution_count": 55,
   "metadata": {},
   "outputs": [],
   "source": [
    "def obj_fun(x):\n",
    "    return np.sin(5 * x[0]) * (1 - np.tanh(x[0] ** 2)) + np.random.randn() * 0.1\n",
    "\n",
    "checkpoint_saver = CheckpointSaver(\"./checkpoint.pkl\", compress=9) # keyword arguments will be passed to `skopt.dump`"
   ]
  },
  {
   "cell_type": "code",
   "execution_count": 178,
   "metadata": {
    "scrolled": true
   },
   "outputs": [
    {
     "name": "stdout",
     "output_type": "stream",
     "text": [
      "Iteration No: 1 started. Evaluating function at random point.\n",
      "Iteration No: 1 ended. Evaluation done at random point.\n",
      "Time taken: 0.0054\n",
      "Function value obtained: 0.0391\n",
      "Current minimum: -0.2625\n",
      "Iteration No: 2 started. Evaluating function at random point.\n",
      "Iteration No: 2 ended. Evaluation done at random point.\n",
      "Time taken: 0.0050\n",
      "Function value obtained: -0.0762\n",
      "Current minimum: -0.2625\n",
      "Iteration No: 3 started. Searching for the next optimal point.\n",
      "Iteration No: 3 ended. Search finished for the next optimal point.\n",
      "Time taken: 0.1899\n",
      "Function value obtained: 0.0528\n",
      "Current minimum: -0.2625\n",
      "Iteration No: 4 started. Searching for the next optimal point.\n",
      "Iteration No: 4 ended. Search finished for the next optimal point.\n",
      "Time taken: 0.1936\n",
      "Function value obtained: 0.0428\n",
      "Current minimum: -0.2625\n",
      "Iteration No: 5 started. Searching for the next optimal point.\n"
     ]
    },
    {
     "name": "stderr",
     "output_type": "stream",
     "text": [
      "/Users/marcusahlgren/anaconda3/lib/python3.6/site-packages/skopt/optimizer/optimizer.py:399: UserWarning: The objective has been evaluated at this point before.\n",
      "  warnings.warn(\"The objective has been evaluated \"\n",
      "/Users/marcusahlgren/anaconda3/lib/python3.6/site-packages/skopt/optimizer/optimizer.py:399: UserWarning: The objective has been evaluated at this point before.\n",
      "  warnings.warn(\"The objective has been evaluated \"\n"
     ]
    },
    {
     "name": "stdout",
     "output_type": "stream",
     "text": [
      "Iteration No: 5 ended. Search finished for the next optimal point.\n",
      "Time taken: 0.2040\n",
      "Function value obtained: 0.1660\n",
      "Current minimum: -0.2625\n",
      "Iteration No: 6 ended. Search finished for the next optimal point.\n",
      "Time taken: 0.4054\n",
      "Function value obtained: -0.0316\n",
      "Current minimum: -0.2625\n"
     ]
    },
    {
     "name": "stderr",
     "output_type": "stream",
     "text": [
      "/Users/marcusahlgren/anaconda3/lib/python3.6/site-packages/skopt/optimizer/optimizer.py:399: UserWarning: The objective has been evaluated at this point before.\n",
      "  warnings.warn(\"The objective has been evaluated \"\n"
     ]
    },
    {
     "data": {
      "image/png": "[encoded data removed]",
      "text/plain": [
       "<Figure size 432x288 with 1 Axes>"
      ]
     },
     "metadata": {
      "needs_background": "light"
     },
     "output_type": "display_data"
    }
   ],
   "source": [
    "try:\n",
    "    res = load('./checkpoint.pkl')\n",
    "\n",
    "    x_init = res.x_iters\n",
    "    y_init = res.func_vals\n",
    "    exploration_iters = 2\n",
    "    n_iters = 5\n",
    "except:\n",
    "    x_init = None\n",
    "    y_init = None\n",
    "    exploration_iters = 1\n",
    "    n_iters = 5\n",
    "    n_iters = max(n_iters, exploration_iters)\n",
    "finally:\n",
    "    res = gp_minimize(obj_fun,            # the function to minimize\n",
    "              [(-20.0, 20.0)],    # the bounds on each dimension of x\n",
    "              x0=x_init,              # already examined values for x\n",
    "              y0=y_init,              # observed values for x0\n",
    "              acq_func=\"LCB\",     # the acquisition function (optional)\n",
    "              n_calls=n_iters,         # the number of evaluations of f including at x0\n",
    "              n_random_starts=exploration_iters,  # the number of random initialization points\n",
    "              callback=[checkpoint_saver],\n",
    "              random_state=777, \n",
    "              verbose = True)\n",
    "    plot_convergence(res)"
   ]
  },
  {
   "cell_type": "code",
   "execution_count": 181,
   "metadata": {},
   "outputs": [],
   "source": [
    "os.remove('checkpoint.pkl')"
   ]
  }
 ],
 "metadata": {
  "kernelspec": {
   "display_name": "Python 3",
   "language": "python",
   "name": "python3"
  },
  "language_info": {
   "codemirror_mode": {
    "name": "ipython",
    "version": 3
   },
   "file_extension": ".py",
   "mimetype": "text/x-python",
   "name": "python",
   "nbconvert_exporter": "python",
   "pygments_lexer": "ipython3",
   "version": "3.6.8"
  }
 },
 "nbformat": 4,
 "nbformat_minor": 2
}
