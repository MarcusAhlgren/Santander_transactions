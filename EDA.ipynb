{
 "cells": [
  {
   "cell_type": "code",
   "execution_count": 1,
   "metadata": {},
   "outputs": [],
   "source": [
    "import pandas as pd\n",
    "import numpy as np\n",
    "import matplotlib.pyplot as plt"
   ]
  },
  {
   "cell_type": "markdown",
   "metadata": {},
   "source": [
    "# Load data"
   ]
  },
  {
   "cell_type": "code",
   "execution_count": 2,
   "metadata": {},
   "outputs": [
    {
     "name": "stdout",
     "output_type": "stream",
     "text": [
      "(200000, 202)\n",
      "CPU times: user 6.7 s, sys: 988 ms, total: 7.69 s\n",
      "Wall time: 7.94 s\n"
     ]
    }
   ],
   "source": [
    "%%time\n",
    "train = pd.read_csv(\"data/train.csv\")\n",
    "print(train.shape)"
   ]
  },
  {
   "cell_type": "code",
   "execution_count": 3,
   "metadata": {},
   "outputs": [
    {
     "name": "stdout",
     "output_type": "stream",
     "text": [
      "(200000, 201)\n",
      "CPU times: user 6.27 s, sys: 826 ms, total: 7.1 s\n",
      "Wall time: 7.32 s\n"
     ]
    }
   ],
   "source": [
    "%%time\n",
    "test = pd.read_csv(\"data/test.csv\")\n",
    "print(test.shape)"
   ]
  },
  {
   "cell_type": "markdown",
   "metadata": {},
   "source": [
    "# EDA"
   ]
  },
  {
   "cell_type": "code",
   "execution_count": 4,
   "metadata": {},
   "outputs": [
    {
     "data": {
      "text/plain": [
       "float64    200\n",
       "int64        1\n",
       "object       1\n",
       "dtype: int64"
      ]
     },
     "execution_count": 4,
     "metadata": {},
     "output_type": "execute_result"
    }
   ],
   "source": [
    "train.dtypes.value_counts()"
   ]
  },
  {
   "cell_type": "markdown",
   "metadata": {},
   "source": [
    "All columns are numerical so we won't need to categorize/one hot encode any columns."
   ]
  },
  {
   "cell_type": "code",
   "execution_count": 5,
   "metadata": {},
   "outputs": [
    {
     "data": {
      "text/plain": [
       "var_199    0\n",
       "var_61     0\n",
       "var_71     0\n",
       "var_70     0\n",
       "var_69     0\n",
       "dtype: int64"
      ]
     },
     "execution_count": 5,
     "metadata": {},
     "output_type": "execute_result"
    }
   ],
   "source": [
    "train.isnull().sum().sort_values(ascending = False).head()"
   ]
  },
  {
   "cell_type": "markdown",
   "metadata": {},
   "source": [
    "No null values are found so no imputation is required."
   ]
  },
  {
   "cell_type": "code",
   "execution_count": 6,
   "metadata": {},
   "outputs": [
    {
     "data": {
      "text/plain": [
       "0    0.89951\n",
       "1    0.10049\n",
       "Name: target, dtype: float64"
      ]
     },
     "execution_count": 6,
     "metadata": {},
     "output_type": "execute_result"
    }
   ],
   "source": [
    "train.target.value_counts()/train.shape[0]"
   ]
  },
  {
   "cell_type": "markdown",
   "metadata": {},
   "source": [
    "Almost 90% of samples are 0 which means we have class imbalance. "
   ]
  },
  {
   "cell_type": "code",
   "execution_count": 7,
   "metadata": {},
   "outputs": [],
   "source": [
    "corr_df = train.corr()"
   ]
  },
  {
   "cell_type": "code",
   "execution_count": 8,
   "metadata": {},
   "outputs": [
    {
     "data": {
      "text/plain": [
       "target     1.000000\n",
       "var_0      0.052390\n",
       "var_1      0.050343\n",
       "var_2      0.055870\n",
       "var_3      0.011055\n",
       "var_4      0.010915\n",
       "var_5      0.030979\n",
       "var_6      0.066731\n",
       "var_7     -0.003025\n",
       "var_8      0.019584\n",
       "var_9     -0.042805\n",
       "var_10    -0.002213\n",
       "var_11     0.022993\n",
       "var_12    -0.069489\n",
       "var_13    -0.055156\n",
       "var_14    -0.006332\n",
       "var_15     0.017283\n",
       "var_16     0.008117\n",
       "var_17     0.000864\n",
       "var_18     0.043479\n",
       "var_19     0.011291\n",
       "var_20    -0.018329\n",
       "var_21    -0.058483\n",
       "var_22     0.060558\n",
       "var_23    -0.025473\n",
       "var_24     0.028477\n",
       "var_25     0.013328\n",
       "var_26     0.062422\n",
       "var_27    -0.000582\n",
       "var_28    -0.023942\n",
       "             ...   \n",
       "var_170    0.047973\n",
       "var_171    0.014873\n",
       "var_172   -0.037976\n",
       "var_173    0.042022\n",
       "var_174   -0.061669\n",
       "var_175    0.021692\n",
       "var_176    0.007469\n",
       "var_177   -0.036863\n",
       "var_178   -0.019681\n",
       "var_179    0.050002\n",
       "var_180    0.031190\n",
       "var_181    0.013714\n",
       "var_182   -0.007198\n",
       "var_183   -0.005467\n",
       "var_184    0.048315\n",
       "var_185    0.000053\n",
       "var_186   -0.030421\n",
       "var_187    0.014873\n",
       "var_188   -0.034015\n",
       "var_189    0.009212\n",
       "var_190    0.055973\n",
       "var_191    0.047114\n",
       "var_192   -0.042858\n",
       "var_193   -0.017709\n",
       "var_194   -0.022838\n",
       "var_195    0.028285\n",
       "var_196    0.023608\n",
       "var_197   -0.035303\n",
       "var_198   -0.053000\n",
       "var_199    0.025434\n",
       "Name: target, Length: 201, dtype: float64"
      ]
     },
     "execution_count": 8,
     "metadata": {},
     "output_type": "execute_result"
    }
   ],
   "source": [
    "corr_df.iloc[0]"
   ]
  }
 ],
 "metadata": {
  "kernelspec": {
   "display_name": "Python 3",
   "language": "python",
   "name": "python3"
  },
  "language_info": {
   "codemirror_mode": {
    "name": "ipython",
    "version": 3
   },
   "file_extension": ".py",
   "mimetype": "text/x-python",
   "name": "python",
   "nbconvert_exporter": "python",
   "pygments_lexer": "ipython3",
   "version": "3.6.8"
  }
 },
 "nbformat": 4,
 "nbformat_minor": 2
}
